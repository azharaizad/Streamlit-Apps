{
 "cells": [
  {
   "cell_type": "markdown",
   "metadata": {},
   "source": [
    "# Laptop Price Prediction"
   ]
  },
  {
   "cell_type": "code",
   "execution_count": 271,
   "metadata": {},
   "outputs": [],
   "source": [
    "import kagglehub\n",
    "import shutil\n",
    "import os\n",
    "import pandas as pd\n",
    "\n"
   ]
  },
  {
   "cell_type": "code",
   "execution_count": 272,
   "metadata": {},
   "outputs": [],
   "source": [
    "data = pd.read_csv('laptops.csv')"
   ]
  },
  {
   "cell_type": "markdown",
   "metadata": {},
   "source": [
    "# EDA"
   ]
  },
  {
   "cell_type": "code",
   "execution_count": 273,
   "metadata": {},
   "outputs": [],
   "source": [
    "#from ydata_profiling import ProfileReport\n",
    "\n",
    "#profile = ProfileReport(data, title=\"Laptop Specs And Price Report\", explorative=True)\n",
    "#profile.to_notebook_iframe()"
   ]
  },
  {
   "cell_type": "code",
   "execution_count": 274,
   "metadata": {},
   "outputs": [],
   "source": [
    "#import dtale\n",
    "\n",
    "#dtale.show(data)"
   ]
  },
  {
   "cell_type": "code",
   "execution_count": 275,
   "metadata": {},
   "outputs": [],
   "source": [
    "import plotly.express as px\n",
    "import plotly.graph_objects as go\n",
    "\n",
    "def numerical_eda(data, column_name):\n",
    "    \"\"\"\n",
    "    Perform EDA for a numerical column, generating interactive histogram and boxplot.\n",
    "\n",
    "    Parameters:\n",
    "    - data: pd.DataFrame\n",
    "        The dataset containing the column.\n",
    "    - column_name: str\n",
    "        The name of the numerical column to analyze.\n",
    "\n",
    "    Returns:\n",
    "    - None\n",
    "    \"\"\"\n",
    "    if column_name in data.columns:\n",
    "        # Summary Statistics\n",
    "        summary = data[column_name].describe()\n",
    "        print(f\"Summary Statistics for {column_name}:\")\n",
    "        print(summary)\n",
    "\n",
    "        # Interactive Histogram\n",
    "        hist = px.histogram(\n",
    "            data,\n",
    "            x=column_name,\n",
    "            nbins=10,\n",
    "            title=f\"Interactive Histogram: {column_name} Distribution\",\n",
    "            labels={column_name: column_name},\n",
    "            color_discrete_sequence=['orange'],  # Custom color for the histogram\n",
    "            marginal='box'  # Adds a boxplot above the histogram\n",
    "        )\n",
    "        hist.update_layout(\n",
    "            xaxis=dict(title=column_name),\n",
    "            yaxis=dict(title=\"Frequency\"),\n",
    "            title=dict(font=dict(size=20)),\n",
    "            template=\"plotly_white\"\n",
    "        )\n",
    "        hist.show()  # Display the histogram\n",
    "\n",
    "        # Interactive Boxplot\n",
    "        box = go.Figure()\n",
    "        box.add_trace(\n",
    "            go.Box(\n",
    "                y=data[column_name],\n",
    "                name=column_name,\n",
    "                marker_color='lightblue',\n",
    "                boxmean=True  # Displays mean as a line on the boxplot\n",
    "            )\n",
    "        )\n",
    "        box.update_layout(\n",
    "            title=f\"Interactive Boxplot: {column_name} Distribution\",\n",
    "            yaxis=dict(title=column_name),\n",
    "            xaxis=dict(title=\"\"),\n",
    "            template=\"plotly_white\"\n",
    "        )\n",
    "        box.show()  # Display the boxplot\n",
    "    else:\n",
    "        print(f\"The column '{column_name}' does not exist in the dataset.\")"
   ]
  },
  {
   "cell_type": "code",
   "execution_count": 276,
   "metadata": {},
   "outputs": [],
   "source": [
    "import pandas as pd\n",
    "import plotly.express as px\n",
    "\n",
    "def categorical_eda(data, column_name):\n",
    "    \"\"\"\n",
    "    Perform EDA for a categorical column, generating interactive bar and pie charts.\n",
    "\n",
    "    Parameters:\n",
    "    - data: pd.DataFrame\n",
    "        The dataset containing the column.\n",
    "    - column_name: str\n",
    "        The name of the categorical column to analyze.\n",
    "\n",
    "    Returns:\n",
    "    - None\n",
    "    \"\"\"\n",
    "    if column_name in data.columns:\n",
    "        # Count occurrences of each category\n",
    "        category_summary = data[column_name].value_counts().reset_index()\n",
    "        category_summary.columns = [column_name, 'Count']  # Rename columns for better readability\n",
    "\n",
    "        # Print the summary statistics\n",
    "        print(f\"Summary of {column_name} Distribution:\")\n",
    "        print(category_summary)\n",
    "\n",
    "        # Interactive Bar Chart\n",
    "        bar_chart = px.bar(\n",
    "            category_summary,\n",
    "            x=column_name,\n",
    "            y='Count',\n",
    "            title=f\"Interactive Bar Chart: {column_name} Distribution\",\n",
    "            labels={column_name: column_name, 'Count': 'Count'},\n",
    "            text='Count',  # Display count values on the bars\n",
    "            color=column_name,  # Different colors for each category\n",
    "        )\n",
    "        bar_chart.update_traces(textposition='outside')\n",
    "        bar_chart.update_layout(\n",
    "            xaxis=dict(title=column_name),\n",
    "            yaxis=dict(title=\"Count\"),\n",
    "            title=dict(font=dict(size=20)),\n",
    "            template=\"plotly_white\"\n",
    "        )\n",
    "        bar_chart.show()  # Display the bar chart\n",
    "\n",
    "        # Interactive Pie Chart\n",
    "        pie_chart = px.pie(\n",
    "            category_summary,\n",
    "            names=column_name,\n",
    "            values='Count',\n",
    "            title=f\"Interactive Pie Chart: {column_name} Distribution\",\n",
    "            color_discrete_sequence=px.colors.sequential.RdBu,  # Custom color scheme\n",
    "        )\n",
    "        pie_chart.update_traces(textinfo='percent+label')\n",
    "        pie_chart.update_layout(\n",
    "            title=dict(font=dict(size=20)),\n",
    "            template=\"plotly_white\"\n",
    "        )\n",
    "        pie_chart.show()  # Display the pie chart\n",
    "    else:\n",
    "        print(f\"The column '{column_name}' does not exist in the dataset.\")"
   ]
  },
  {
   "cell_type": "code",
   "execution_count": null,
   "metadata": {},
   "outputs": [],
   "source": [
    "import plotly.express as px\n",
    "\n",
    "# Perform EDA on the 'brand' column\n",
    "brand_summary = data['brand'].value_counts().reset_index()\n",
    "brand_summary.columns = ['Brand', 'Count']  # Rename columns for better readability\n",
    "\n",
    "# Create an interactive bar chart using Plotly\n",
    "brand_bar_chart = px.bar(\n",
    "    brand_summary,\n",
    "    x='Brand',\n",
    "    y='Count',\n",
    "    title=\"Interactive Bar Chart: Brand Distribution\",\n",
    "    labels={'Brand': 'Brand', 'Count': 'Count'},\n",
    "    text='Count'  # Display count values on the bars\n",
    ")\n",
    "\n",
    "# Customize the layout for better visualization\n",
    "brand_bar_chart.update_traces(textposition='outside')\n",
    "brand_bar_chart.update_layout(\n",
    "    xaxis=dict(title=\"Brand\"),\n",
    "    yaxis=dict(title=\"Count\"),\n",
    "    title=dict(font=dict(size=20)),\n",
    "    template=\"plotly_white\"\n",
    ")\n",
    "\n",
    "# Show the chart directly\n",
    "brand_bar_chart.show()"
   ]
  },
  {
   "cell_type": "code",
   "execution_count": null,
   "metadata": {},
   "outputs": [],
   "source": [
    "numerical_eda(data, 'Price')"
   ]
  },
  {
   "cell_type": "code",
   "execution_count": null,
   "metadata": {},
   "outputs": [],
   "source": [
    "numerical_eda(data, 'Rating')"
   ]
  },
  {
   "cell_type": "code",
   "execution_count": null,
   "metadata": {},
   "outputs": [],
   "source": [
    "categorical_eda(data, 'processor_brand')"
   ]
  },
  {
   "cell_type": "code",
   "execution_count": null,
   "metadata": {},
   "outputs": [],
   "source": [
    "categorical_eda(data, 'processor_tier')"
   ]
  },
  {
   "cell_type": "code",
   "execution_count": null,
   "metadata": {},
   "outputs": [],
   "source": [
    "numerical_eda(data, 'num_cores')"
   ]
  },
  {
   "cell_type": "code",
   "execution_count": null,
   "metadata": {},
   "outputs": [],
   "source": [
    "numerical_eda(data, 'ram_memory')"
   ]
  },
  {
   "cell_type": "code",
   "execution_count": null,
   "metadata": {},
   "outputs": [],
   "source": [
    "numerical_eda(data, 'primary_storage_capacity')"
   ]
  },
  {
   "cell_type": "code",
   "execution_count": null,
   "metadata": {},
   "outputs": [],
   "source": [
    "numerical_eda(data, 'secondary_storage_capacity')"
   ]
  },
  {
   "cell_type": "code",
   "execution_count": null,
   "metadata": {},
   "outputs": [],
   "source": [
    "categorical_eda(data, 'gpu_type')"
   ]
  },
  {
   "cell_type": "code",
   "execution_count": null,
   "metadata": {},
   "outputs": [],
   "source": [
    "categorical_eda(data, 'OS')"
   ]
  },
  {
   "cell_type": "markdown",
   "metadata": {},
   "source": [
    "# Data Preprocessing"
   ]
  },
  {
   "cell_type": "code",
   "execution_count": null,
   "metadata": {},
   "outputs": [],
   "source": [
    "del data['index']\n",
    "\n",
    "data.head(5)"
   ]
  },
  {
   "cell_type": "code",
   "execution_count": null,
   "metadata": {},
   "outputs": [],
   "source": [
    "data.isnull().sum()"
   ]
  },
  {
   "cell_type": "code",
   "execution_count": null,
   "metadata": {},
   "outputs": [],
   "source": [
    "data.duplicated().sum()"
   ]
  },
  {
   "cell_type": "code",
   "execution_count": null,
   "metadata": {},
   "outputs": [],
   "source": [
    "data.set_index(['Model'], inplace=True)\n",
    "\n",
    "data.head()"
   ]
  },
  {
   "cell_type": "code",
   "execution_count": null,
   "metadata": {},
   "outputs": [],
   "source": [
    "# Define the tier mapping\n",
    "processor_tier_mapping = {\n",
    "    'core i3': 'Entry',\n",
    "    'core i5': 'Mid',\n",
    "    'core i7': 'High',\n",
    "    'core i9': 'Ultra High',\n",
    "    'core ultra 7': 'Ultra High',\n",
    "    'ryzen 3': 'Entry',\n",
    "    'ryzen 5': 'Mid',\n",
    "    'ryzen 7': 'High',\n",
    "    'ryzen 9': 'Ultra High',\n",
    "    'celeron': 'Entry',\n",
    "    'pentium': 'Entry',\n",
    "    'm1': 'High',\n",
    "    'm2': 'High',\n",
    "    'm3': 'Mid',\n",
    "    'other' : 'unknown'\n",
    "}\n",
    "# Map the processor column to its corresponding tier\n",
    "data['processor_tier'] = data['processor_tier'].map(processor_tier_mapping)\n",
    "\n",
    "data.head()"
   ]
  },
  {
   "cell_type": "code",
   "execution_count": null,
   "metadata": {},
   "outputs": [],
   "source": [
    "# Replace categorical values with numerical mappings\n",
    "data.replace(['unknown', 'Entry', 'Mid', 'High', 'Ultra High'], [0, 1, 2, 3, 4], inplace=True)\n",
    "data.replace(['HDD', 'SSD'], [1, 2], inplace=True)\n",
    "data.replace(['No secondary storage'], [0], inplace=True)\n",
    "\n",
    "data.head()"
   ]
  },
  {
   "cell_type": "code",
   "execution_count": null,
   "metadata": {},
   "outputs": [],
   "source": [
    "data['secondary_storage_type'].value_counts()\n",
    "data.replace(['No secondary storage'],[0],inplace=True)\n",
    "\n",
    "data.head(5)"
   ]
  },
  {
   "cell_type": "code",
   "execution_count": 295,
   "metadata": {},
   "outputs": [],
   "source": [
    "# convert true/false to 1/0\n",
    "data['is_touch_screen'] = data['is_touch_screen'].astype(int)"
   ]
  },
  {
   "cell_type": "code",
   "execution_count": 296,
   "metadata": {},
   "outputs": [],
   "source": [
    "# Perform one-hot encoding for specified columns\n",
    "data = pd.get_dummies(data, columns=['brand', 'processor_brand', 'gpu_brand', 'gpu_type', 'OS'], dtype=int)"
   ]
  },
  {
   "cell_type": "code",
   "execution_count": 297,
   "metadata": {},
   "outputs": [],
   "source": [
    "# change No information to 0 in year_of_warranty, and change to int\n",
    "data['year_of_warranty'] = data['year_of_warranty'].replace('No information', 0).astype(int)"
   ]
  },
  {
   "cell_type": "code",
   "execution_count": null,
   "metadata": {},
   "outputs": [],
   "source": [
    "data.dtypes"
   ]
  },
  {
   "cell_type": "code",
   "execution_count": null,
   "metadata": {},
   "outputs": [],
   "source": [
    "data.isnull().sum()"
   ]
  },
  {
   "cell_type": "code",
   "execution_count": 300,
   "metadata": {},
   "outputs": [],
   "source": [
    "data.to_csv('laptops_cleaned.csv')"
   ]
  },
  {
   "cell_type": "code",
   "execution_count": null,
   "metadata": {},
   "outputs": [],
   "source": [
    "# devide the data into features and target\n",
    "X = data.drop(columns='Price')\n",
    "y = data['Price']\n",
    "X.head()"
   ]
  },
  {
   "cell_type": "code",
   "execution_count": 302,
   "metadata": {},
   "outputs": [],
   "source": [
    "#perfomr scaling only to the features \n",
    "from sklearn.preprocessing import StandardScaler\n",
    "scaler = StandardScaler()\n",
    "X_scaled = scaler.fit_transform(X)\n",
    "X_scaled = pd.DataFrame(X_scaled, columns=X.columns)"
   ]
  },
  {
   "cell_type": "code",
   "execution_count": 305,
   "metadata": {},
   "outputs": [],
   "source": [
    "X_scaled.to_csv('laptops_scaled.csv')"
   ]
  },
  {
   "cell_type": "markdown",
   "metadata": {},
   "source": [
    "# Modeling"
   ]
  },
  {
   "cell_type": "code",
   "execution_count": 266,
   "metadata": {},
   "outputs": [],
   "source": [
    "from sklearn.model_selection import train_test_split\n",
    "\n",
    "# Split the data into training and testing sets\n",
    "X_train, X_test, y_train, y_test = train_test_split(X_scaled, y, test_size=0.2, random_state=42)\n",
    "\n",
    "#split the data into training and validation sets\n",
    "X_train, X_val, y_train, y_val = train_test_split(X_train, y_train, test_size=0.2, random_state=42)"
   ]
  },
  {
   "cell_type": "code",
   "execution_count": null,
   "metadata": {},
   "outputs": [],
   "source": [
    "from xgboost import XGBRegressor\n",
    "from sklearn.model_selection import GridSearchCV, train_test_split\n",
    "from sklearn.preprocessing import StandardScaler\n",
    "from sklearn.metrics import mean_squared_error, r2_score\n",
    "import shap\n",
    "from lime.lime_tabular import LimeTabularExplainer\n",
    "import numpy as np\n",
    "\n",
    "# Scale numerical features\n",
    "scaler = StandardScaler()\n",
    "X_train_scaled = scaler.fit_transform(X_train)\n",
    "X_test_scaled = scaler.transform(X_test)\n",
    "\n",
    "# Expanded parameter grid for XGBoost\n",
    "param_grid = {\n",
    "    'n_estimators': [100, 200, 300],\n",
    "    'max_depth': [3, 5, 7],\n",
    "    'learning_rate': [0.01, 0.05, 0.1],\n",
    "    'subsample': [0.6, 0.8, 1.0],\n",
    "    'colsample_bytree': [0.6, 0.8, 1.0],\n",
    "    'reg_alpha': [0, 0.1, 1],  # L1 regularization\n",
    "    'reg_lambda': [1, 1.5, 2]  # L2 regularization\n",
    "}\n",
    "\n",
    "# Initialize XGBoost regressor\n",
    "xgb_model = XGBRegressor(random_state=42)\n",
    "\n",
    "# Set up GridSearchCV with 5-fold cross-validation\n",
    "grid_search = GridSearchCV(\n",
    "    estimator=xgb_model,\n",
    "    param_grid=param_grid,\n",
    "    cv=5,  # Increased to 5 folds for more robust evaluation\n",
    "    scoring='neg_mean_squared_error',\n",
    "    verbose=1,\n",
    "    n_jobs=-1\n",
    ")\n",
    "\n",
    "# Perform the grid search on the training data\n",
    "grid_search.fit(X_train_scaled, y_train)\n",
    "\n",
    "# Extract the best parameters and the best model\n",
    "best_params = grid_search.best_params_\n",
    "best_model = grid_search.best_estimator_\n",
    "\n",
    "# Evaluate the best model on the test set\n",
    "y_pred_best = best_model.predict(X_test_scaled)\n",
    "rmse_best = np.sqrt(mean_squared_error(y_test, y_pred_best))\n",
    "r2_best = r2_score(y_test, y_pred_best)\n",
    "\n",
    "print(\"Best Parameters:\", best_params)\n",
    "print(\"Best RMSE:\", rmse_best)\n",
    "print(\"Best R²:\", r2_best)\n",
    "\n",
    "# Interpret the model with SHAP\n",
    "explainer = shap.TreeExplainer(best_model)\n",
    "shap_values = explainer.shap_values(X_test_scaled)\n",
    "\n",
    "# Visualize SHAP explanations\n",
    "shap.summary_plot(shap_values, X_test_scaled)\n",
    "\n",
    "# Visualize SHAP for a single prediction\n",
    "shap.force_plot(explainer.expected_value, shap_values[0], X_test_scaled[0])\n",
    "\n",
    "# Initialize LIME explainer\n",
    "lime_explainer = LimeTabularExplainer(\n",
    "    X_train_scaled,\n",
    "    training_labels=y_train.to_numpy(),\n",
    "    feature_names=X.columns.tolist(),\n",
    "    class_names=['Price'],  # Target variable\n",
    "    mode='regression'\n",
    ")\n",
    "\n",
    "# Explain a single prediction with LIME\n",
    "exp = lime_explainer.explain_instance(\n",
    "    X_test_scaled[0],  \n",
    "    best_model.predict,  \n",
    "    num_features=10\n",
    ")\n",
    "\n",
    "# Display the explanation\n",
    "exp.show_in_notebook()"
   ]
  },
  {
   "cell_type": "code",
   "execution_count": null,
   "metadata": {},
   "outputs": [],
   "source": [
    "import lightgbm as lgb\n",
    "from sklearn.model_selection import GridSearchCV\n",
    "from sklearn.preprocessing import StandardScaler\n",
    "from sklearn.metrics import mean_squared_error, r2_score\n",
    "import shap\n",
    "from lime.lime_tabular import LimeTabularExplainer\n",
    "\n",
    "# Scale numerical features\n",
    "scaler = StandardScaler()\n",
    "X_train_scaled = scaler.fit_transform(X_train)\n",
    "X_test_scaled = scaler.transform(X_test)\n",
    "\n",
    "# Parameter grid for LightGBM\n",
    "param_grid = {\n",
    "    'n_estimators': [100],\n",
    "    'max_depth': [-1],  # -1 indicates no limit\n",
    "    'learning_rate': [0.01],\n",
    "    'num_leaves': [30],\n",
    "    'min_data_in_leaf': [20],\n",
    "    'feature_fraction': [0.8],  # Subsampling ratio of features\n",
    "    'bagging_fraction': [0.8],  # Subsampling ratio of rows\n",
    "    'bagging_freq': [0]  # Frequency of bagging\n",
    "}\n",
    "\n",
    "# Initialize LightGBM regressor\n",
    "lgb_model = lgb.LGBMRegressor(random_state=42)\n",
    "\n",
    "# Set up GridSearchCV\n",
    "grid_search = GridSearchCV(\n",
    "    estimator=lgb_model,\n",
    "    param_grid=param_grid,\n",
    "    cv=5,  # 5-fold cross-validation\n",
    "    scoring='neg_mean_squared_error',\n",
    "    verbose=1,\n",
    "    n_jobs=-1\n",
    ")\n",
    "\n",
    "# Perform the grid search on the training data\n",
    "grid_search.fit(X_train_scaled, y_train)\n",
    "\n",
    "# Extract the best parameters and the best model\n",
    "best_params = grid_search.best_params_\n",
    "best_model = grid_search.best_estimator_\n",
    "\n",
    "# Evaluate the best model on the test set\n",
    "y_pred_best = best_model.predict(X_test_scaled)\n",
    "rmse_best = np.sqrt(mean_squared_error(y_test, y_pred_best))\n",
    "r2_best = r2_score(y_test, y_pred_best)\n",
    "\n",
    "print(\"Best Parameters:\", best_params)\n",
    "print(\"Best RMSE:\", rmse_best)\n",
    "print(\"Best R²:\", r2_best)\n",
    "\n",
    "# Interpret the model with SHAP\n",
    "explainer = shap.TreeExplainer(best_model)\n",
    "shap_values = explainer.shap_values(X_test_scaled)\n",
    "\n",
    "# Visualize SHAP explanations\n",
    "shap.summary_plot(shap_values, X_test_scaled)\n",
    "\n",
    "# Visualize SHAP for a single prediction\n",
    "shap.force_plot(explainer.expected_value, shap_values[0], X_test_scaled[0])\n",
    "\n",
    "# Initialize LIME explainer\n",
    "lime_explainer = LimeTabularExplainer(\n",
    "    X_train_scaled,\n",
    "    training_labels=y_train.to_numpy(),\n",
    "    feature_names=X.columns.tolist(),\n",
    "    class_names=['Price'],  # Target variable\n",
    "    mode='regression'\n",
    ")\n",
    "\n",
    "# Explain a single prediction with LIME\n",
    "exp = lime_explainer.explain_instance(\n",
    "    X_test_scaled[0],  \n",
    "    best_model.predict,  \n",
    "    num_features=10\n",
    ")\n",
    "\n",
    "# Display the explanation\n",
    "exp.show_in_notebook()"
   ]
  },
  {
   "cell_type": "code",
   "execution_count": null,
   "metadata": {},
   "outputs": [],
   "source": [
    "import joblib\n",
    "\n",
    "# Assuming xgboost_model and lgbm_model are your trained models\n",
    "joblib.dump(xgb_model, 'xgb_model.pkl')\n",
    "joblib.dump(lgb_model, 'lgb_model.pkl')\n"
   ]
  }
 ],
 "metadata": {
  "kernelspec": {
   "display_name": "Python 3",
   "language": "python",
   "name": "python3"
  },
  "language_info": {
   "codemirror_mode": {
    "name": "ipython",
    "version": 3
   },
   "file_extension": ".py",
   "mimetype": "text/x-python",
   "name": "python",
   "nbconvert_exporter": "python",
   "pygments_lexer": "ipython3",
   "version": "3.11.9"
  }
 },
 "nbformat": 4,
 "nbformat_minor": 2
}
